{
  "nbformat": 4,
  "nbformat_minor": 0,
  "metadata": {
    "colab": {
      "name": "Untitled9.ipynb",
      "provenance": [],
      "collapsed_sections": [],
      "authorship_tag": "ABX9TyMxhqVN7J7k4zX2lF1zTUvt",
      "include_colab_link": true
    },
    "kernelspec": {
      "name": "python3",
      "display_name": "Python 3"
    },
    "language_info": {
      "name": "python"
    }
  },
  "cells": [
    {
      "cell_type": "markdown",
      "metadata": {
        "id": "view-in-github",
        "colab_type": "text"
      },
      "source": [
        "<a href=\"https://colab.research.google.com/github/Waseem-Raja/MACHINE-LEARNING/blob/main/Untitled9.ipynb\" target=\"_parent\"><img src=\"https://colab.research.google.com/assets/colab-badge.svg\" alt=\"Open In Colab\"/></a>"
      ]
    },
    {
      "cell_type": "code",
      "execution_count": 1,
      "metadata": {
        "colab": {
          "base_uri": "https://localhost:8080/"
        },
        "id": "UNXOrESwHfQ_",
        "outputId": "4e16f1f1-1546-4635-8228-5fad1aa1d25e"
      },
      "outputs": [
        {
          "output_type": "stream",
          "name": "stdout",
          "text": [
            "Mounted at /content/drive\n"
          ]
        }
      ],
      "source": [
        "from google.colab import drive\n",
        "drive.mount('/content/drive')"
      ]
    },
    {
      "cell_type": "code",
      "source": [
        "import numpy as np\n",
        "import pandas as pd\n",
        "import matplotlib.pyplot as plt\n",
        "import random as rd"
      ],
      "metadata": {
        "id": "7PYnQQ1sH9wT"
      },
      "execution_count": 20,
      "outputs": []
    },
    {
      "cell_type": "code",
      "source": [
        "ds=pd.read_csv(\"/content/drive/MyDrive/Mall_Customers.csv\")\n",
        "print(ds.head(10))"
      ],
      "metadata": {
        "colab": {
          "base_uri": "https://localhost:8080/"
        },
        "id": "otusW4RoILD_",
        "outputId": "2890a676-4780-4e77-a96f-544032a916b3"
      },
      "execution_count": 8,
      "outputs": [
        {
          "output_type": "stream",
          "name": "stdout",
          "text": [
            "   CustomerID   Genre  Age  Annual Income (k$)  Spending Score (1-100)\n",
            "0           1    Male   19                  15                      39\n",
            "1           2    Male   21                  15                      81\n",
            "2           3  Female   20                  16                       6\n",
            "3           4  Female   23                  16                      77\n",
            "4           5  Female   31                  17                      40\n",
            "5           6  Female   22                  17                      76\n",
            "6           7  Female   35                  18                       6\n",
            "7           8  Female   23                  18                      94\n",
            "8           9    Male   64                  19                       3\n",
            "9          10  Female   30                  19                      72\n"
          ]
        }
      ]
    },
    {
      "cell_type": "code",
      "source": [
        "X = ds.iloc[:, [3, 4]].values    # (200, 2), 200 data points, 2 dimensions each\n",
        "print(X)"
      ],
      "metadata": {
        "id": "Ts5Un88HJSJ9"
      },
      "execution_count": null,
      "outputs": []
    },
    {
      "cell_type": "code",
      "source": [
        "m=X.shape[0] #number of training examples\n",
        "n=X.shape[1] #number of features. Here n=2\n",
        "\n",
        "print(X)\n",
        "n_iter=100"
      ],
      "metadata": {
        "id": "4NSsUVIEHwiM"
      },
      "execution_count": null,
      "outputs": []
    },
    {
      "cell_type": "code",
      "source": [
        "K=5 # number of clusters"
      ],
      "metadata": {
        "id": "EzGT558XK5p8"
      },
      "execution_count": 19,
      "outputs": []
    },
    {
      "cell_type": "code",
      "source": [
        " #Initialize the centroids randomly from the data points:\n",
        "Centroids=np.array([]).reshape(n,0) \n",
        "#Centroids is a n x K dimentional matrix, where each column will be a centroid for one cluster.\n",
        "for i in range(K):\n",
        "    rand=rd.randint(0,m-1)\n",
        "    Centroids=np.c_[Centroids,X[rand]]"
      ],
      "metadata": {
        "id": "bj8M7kyDK9hz"
      },
      "execution_count": 21,
      "outputs": []
    },
    {
      "cell_type": "code",
      "source": [
        "# Step 2.a: For each training example compute the euclidian distance \n",
        "# from the centroid and assign the cluster based on the minimal distance\n",
        "# The output of our algorithm should be a dictionary with cluster number \n",
        "# as Keys and the data points which belong to that cluster as values. So let’s initialize the dictionary.\n",
        "Output={}"
      ],
      "metadata": {
        "id": "wLxM3vdBLzmF"
      },
      "execution_count": 22,
      "outputs": []
    },
    {
      "cell_type": "code",
      "source": [
        "# We find the euclidian distance from each point to all the centroids \n",
        "# and store in a m X K matrix. So every row in EuclidianDistance matrix will have \n",
        "#  of that particular data point from all the centroids. Next, we shall find the minimum distance and store the index of the column in a vector C.\n",
        "EuclidianDistance=np.array([]).reshape(m,0)\n",
        "for k in range(K):\n",
        "       tempDist=np.sum((X-Centroids[:,k])**2,axis=1)\n",
        "       EuclidianDistance=np.c_[EuclidianDistance,tempDist]\n",
        "C=np.argmin(EuclidianDistance,axis=1)+1"
      ],
      "metadata": {
        "id": "AQ-cxyycMCGm"
      },
      "execution_count": 23,
      "outputs": []
    },
    {
      "cell_type": "code",
      "source": [
        "#Step 2.b: We need to regroup the data points based on the cluster index \n",
        "# C and store in the Output dictionary and also compute the mean of separated clusters and assign\n",
        "#  it as new centroids. Y is a temporary dictionary which stores the solution for one particular iteration.\n",
        "Y={}\n",
        "for k in range(K):\n",
        "    Y[k+1]=np.array([]).reshape(2,0)\n",
        "for i in range(m):\n",
        "    Y[C[i]]=np.c_[Y[C[i]],X[i]]\n",
        "     \n",
        "for k in range(K):\n",
        "    Y[k+1]=Y[k+1].T\n",
        "    \n",
        "for k in range(K):\n",
        "     Centroids[:,k]=np.mean(Y[k+1],axis=0)"
      ],
      "metadata": {
        "id": "ESM6Hj5bMPu2"
      },
      "execution_count": 24,
      "outputs": []
    },
    {
      "cell_type": "code",
      "source": [
        "#Now we need to repeat step 2 till convergence is achieved. In other words, we loop over n_iter and repeat the step 2.a and 2.b as shown:\n",
        "for i in range(n_iter):\n",
        "     #step 2.a\n",
        "      EuclidianDistance=np.array([]).reshape(m,0)\n",
        "      for k in range(K):\n",
        "          tempDist=np.sum((X-Centroids[:,k])**2,axis=1)\n",
        "          EuclidianDistance=np.c_[EuclidianDistance,tempDist]\n",
        "      C=np.argmin(EuclidianDistance,axis=1)+1\n",
        "     #step 2.b\n",
        "      Y={}\n",
        "      for k in range(K):\n",
        "          Y[k+1]=np.array([]).reshape(2,0)\n",
        "      for i in range(m):\n",
        "          Y[C[i]]=np.c_[Y[C[i]],X[i]]\n",
        "     \n",
        "      for k in range(K):\n",
        "          Y[k+1]=Y[k+1].T\n",
        "    \n",
        "      for k in range(K):\n",
        "          Centroids[:,k]=np.mean(Y[k+1],axis=0)\n",
        "      Output=Y"
      ],
      "metadata": {
        "id": "Z_wqexiSMaYz"
      },
      "execution_count": 29,
      "outputs": []
    },
    {
      "cell_type": "code",
      "source": [
        "#Now it’s time to visualize the algorithm and notice how the original data is clustered. To start with, let’s scatter the original unclustered data first.\n",
        "plt.scatter(X[:,0],X[:,1],c='black',label='unclustered data')\n",
        "plt.xlabel('Income')\n",
        "plt.ylabel('Number of transactions')\n",
        "plt.legend()\n",
        "plt.title('Plot of data points')\n",
        "plt.show()"
      ],
      "metadata": {
        "colab": {
          "base_uri": "https://localhost:8080/",
          "height": 295
        },
        "id": "wXLvdCUPMj47",
        "outputId": "2b13d717-81fc-4e87-aa12-009c6f21a2b5"
      },
      "execution_count": 30,
      "outputs": [
        {
          "output_type": "display_data",
          "data": {
            "text/plain": [
              "<Figure size 432x288 with 1 Axes>"
            ],
            "image/png": "[encoded data removed]"
          },
          "metadata": {
            "needs_background": "light"
          }
        }
      ]
    },
    {
      "cell_type": "code",
      "source": [
        "#Now let’s plot the clustered data:\n",
        "color=['red','blue','green','cyan','magenta']\n",
        "labels=['cluster1','cluster2','cluster3','cluster4','cluster5']\n",
        "for k in range(K):\n",
        "    plt.scatter(Output[k+1][:,0],Output[k+1][:,1],c=color[k],label=labels[k])\n",
        "plt.scatter(Centroids[0,:],Centroids[1,:],s=300,c='yellow',label='Centroids')\n",
        "plt.xlabel('Income')\n",
        "plt.ylabel('Number of transactions')\n",
        "plt.legend()\n",
        "plt.show()"
      ],
      "metadata": {
        "colab": {
          "base_uri": "https://localhost:8080/",
          "height": 279
        },
        "id": "IbuRZWp2MsK8",
        "outputId": "60f826aa-5599-4c7e-db58-e0a279ca94d6"
      },
      "execution_count": 31,
      "outputs": [
        {
          "output_type": "display_data",
          "data": {
            "text/plain": [
              "<Figure size 432x288 with 1 Axes>"
            ],
            "image/png": "[encoded data removed]"
          },
          "metadata": {
            "needs_background": "light"
          }
        }
      ]
    },
    {
      "cell_type": "code",
      "source": [
        "# Wow, it’s so beautiful and informative too! Our data has become \n",
        "#a clustered data from unclustered raw data. We can observe that there are five categories of clusters which are :\n",
        "\n",
        "\n",
        "# Customers with low income but a High number of transactions (For these type may be the company can recommend products with low price) — Red cluster\n",
        "\n",
        "# Customers with low income and a low number of transactions (Maybe these type of customers are too busy saving their money) — Cyan Cluster\n",
        "\n",
        "# Customers with medium income and a medium number of transactions — Green Cluster\n",
        "\n",
        "# Customers with High income and a low number of transactions — Magenta Cluster\n",
        "\n",
        "# Customers with High income and a High number of transactions — Blue cluster.\n",
        "\n",
        "\n",
        "\n",
        "# So the company can divide their customers into 5 classes and design different strategies for a different type \n",
        "# of customers to increase their sales. So far so good right, but how do we arrive at the conclusion that there \n",
        "# should be 5 number of clusters? To find out how, let’s visualize the clustered data with different clusters starting from \n",
        "# 1 to 10. "
      ],
      "metadata": {
        "id": "J26TJn-wM__E"
      },
      "execution_count": null,
      "outputs": []
    }
  ]
}